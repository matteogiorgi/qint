{
 "cells": [
  {
   "cell_type": "markdown",
   "metadata": {},
   "source": [
    "# Number of expressions with a target result\n",
    "Given a list of integers and a target result, count the number of ways in which we can add + or - operators between the integers such that the expression that is formed is equal to the target result."
   ]
  }
 ],
 "metadata": {
  "language_info": {
   "name": "python"
  }
 },
 "nbformat": 4,
 "nbformat_minor": 2
}
