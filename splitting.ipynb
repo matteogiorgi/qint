{
 "cells": [
  {
   "cell_type": "markdown",
   "metadata": {},
   "source": [
    "# Splitting a string without spaces into words\n",
    "Certain languages, such as Thai or classical Latin, do not use spaces to separate words within sentences. This creates some challenges to text-processing software that has to handle words. Given a sentence recorded as a string without spaces and a dictionary (a list of words), split the sentence into words. In case multiple results are possible, return any of them."
   ]
  }
 ],
 "metadata": {
  "language_info": {
   "name": "python"
  }
 },
 "nbformat": 4,
 "nbformat_minor": 2
}
