{
 "cells": [
  {
   "cell_type": "markdown",
   "metadata": {},
   "source": [
    "# Optimal stock market strategy\n",
    "When evaluating stock market trading strategies, it is useful to determine the maximum possible profit that can be made by trading a certain stock. Write an algorithm that, given the daily price of a stock, computes the maximum profit that can be made by buying and selling that stock. Assume that you are allowed to own no more than 1 share at any time, and that you have an unlimited budget."
   ]
  }
 ],
 "metadata": {
  "language_info": {
   "name": "python"
  }
 },
 "nbformat": 4,
 "nbformat_minor": 2
}
